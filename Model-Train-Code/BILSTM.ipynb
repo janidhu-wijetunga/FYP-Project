{
  "nbformat": 4,
  "nbformat_minor": 0,
  "metadata": {
    "colab": {
      "provenance": [],
      "gpuType": "T4"
    },
    "kernelspec": {
      "name": "python3",
      "display_name": "Python 3"
    },
    "language_info": {
      "name": "python"
    },
    "accelerator": "GPU"
  },
  "cells": [
    {
      "cell_type": "markdown",
      "source": [
        "Reference: https://www.geeksforgeeks.org/bidirectional-lstm-in-nlp/"
      ],
      "metadata": {
        "id": "__jOlve-XjIF"
      }
    },
    {
      "cell_type": "code",
      "execution_count": null,
      "metadata": {
        "id": "yT3FySQhIo0f"
      },
      "outputs": [],
      "source": [
        "import tensorflow as tf\n",
        "import tensorflow_datasets as tfds\n",
        "import pandas as pd\n",
        "import numpy as np\n",
        "import matplotlib.pyplot as plt\n",
        "from sklearn.model_selection import train_test_split\n",
        "import nltk\n",
        "from nltk.tokenize import word_tokenize\n",
        "from nltk.stem import PorterStemmer\n",
        "from nltk.corpus import stopwords"
      ]
    },
    {
      "cell_type": "code",
      "source": [
        "# Load your CSV file using pandas\n",
        "csv_file_path = '/content/sample_data/dataset_en.csv'\n",
        "df = pd.read_csv(csv_file_path)\n",
        "\n",
        "# Map string labels to numerical values\n",
        "label_mapping = {\"hate\": 1, \"nothate\": 0}\n",
        "df['label'] = df['label'].map(label_mapping)\n",
        "\n",
        "# Split the dataset into training and testing sets\n",
        "train_df, test_df = train_test_split(df, test_size=0.2, random_state=42)\n",
        "\n",
        "# Define a function to preprocess text data\n",
        "def preprocess_text(text):\n",
        "    # Add your text preprocessing steps here (e.g., tokenization, lowercase, etc.)\n",
        "    # Convert text to lowercase\n",
        "    return text\n",
        "\n",
        "# Apply text preprocessing to your dataset\n",
        "train_df['text'] = train_df['text'].apply(preprocess_text)\n",
        "test_df['text'] = test_df['text'].apply(preprocess_text)\n",
        "\n",
        "# Create TensorFlow Dataset objects\n",
        "train_dataset = tf.data.Dataset.from_tensor_slices((train_df['text'], train_df['label']))\n",
        "test_dataset = tf.data.Dataset.from_tensor_slices((test_df['text'], test_df['label']))\n",
        "\n",
        "# Shuffle and batch the training dataset\n",
        "batch_size = 32\n",
        "train_dataset = train_dataset.shuffle(10000)\n",
        "train_dataset = train_dataset.batch(batch_size)\n",
        "\n",
        "# Batch the testing dataset\n",
        "test_dataset = test_dataset.batch(batch_size)"
      ],
      "metadata": {
        "id": "fZ6_9yda-tpS"
      },
      "execution_count": null,
      "outputs": []
    },
    {
      "cell_type": "code",
      "source": [
        "text, label = next(iter(train_dataset))\n",
        "print('Text:\\n', text.numpy()[0])\n",
        "print('\\nLabel: ', label.numpy()[0])"
      ],
      "metadata": {
        "colab": {
          "base_uri": "https://localhost:8080/"
        },
        "id": "54Ai_TUtoXqB",
        "outputId": "b07f4ff7-d1f9-4cfa-da28-7c45cba1d367"
      },
      "execution_count": null,
      "outputs": [
        {
          "output_type": "stream",
          "name": "stdout",
          "text": [
            "Text:\n",
            " b'The countries you called low IQ subhumans are less corrupt than India! If your country gets beaten by such so called genetically inferior people, What does that say about you?'\n",
            "\n",
            "Label:  0\n"
          ]
        }
      ]
    },
    {
      "cell_type": "code",
      "source": [
        "# Using the TextVectorization layer to normalize, split, and map strings\n",
        "# to integers.\n",
        "encoder = tf.keras.layers.TextVectorization(max_tokens=10000)\n",
        "encoder.adapt(train_dataset.map(lambda text, _: text))\n",
        "\n",
        "# Extracting the vocabulary from the TextVectorization layer.\n",
        "vocabulary = np.array(encoder.get_vocabulary())\n",
        "\n",
        "# Encoding a test example and decoding it back.\n",
        "original_text = text.numpy()[0]\n",
        "encoded_text = encoder(original_text).numpy()\n",
        "decoded_text = ' '.join(vocabulary[encoded_text])\n",
        "\n",
        "print('original: ', original_text)\n",
        "print('encoded: ', encoded_text)\n",
        "print('decoded: ', decoded_text)"
      ],
      "metadata": {
        "colab": {
          "base_uri": "https://localhost:8080/"
        },
        "id": "Rr62NO_jpN26",
        "outputId": "994bcf70-120b-42a0-cf45-b92cd0485453"
      },
      "execution_count": null,
      "outputs": [
        {
          "output_type": "stream",
          "name": "stdout",
          "text": [
            "original:  b'The countries you called low IQ subhumans are less corrupt than India! If your country gets beaten by such so called genetically inferior people, What does that say about you?'\n",
            "encoded:  [   2  429   12  171  870 1011 3730    7  307 1204   88  674   41   66\n",
            "   77  713 1979   75  105   21  171 3070  744   14   59  136   10   99\n",
            "   45   12]\n",
            "decoded:  the countries you called low iq subhumans are less corrupt than india if your country gets beaten by such so called genetically inferior people what does that say about you\n"
          ]
        }
      ]
    },
    {
      "cell_type": "code",
      "source": [
        "# Creating the model\n",
        "model = tf.keras.Sequential([\n",
        "    encoder,\n",
        "    tf.keras.layers.Embedding(\n",
        "        len(encoder.get_vocabulary()), 64, mask_zero=True),\n",
        "    tf.keras.layers.Bidirectional(\n",
        "        tf.keras.layers.LSTM(64,  return_sequences=True)),\n",
        "    tf.keras.layers.Bidirectional(tf.keras.layers.LSTM(32)),\n",
        "    tf.keras.layers.Dense(64, activation='relu'),\n",
        "    tf.keras.layers.Dense(1)\n",
        "])\n",
        "\n",
        "# Summary of the model\n",
        "model.summary()\n",
        "\n",
        "# Compile the model\n",
        "model.compile(\n",
        "    loss=tf.keras.losses.BinaryCrossentropy(from_logits=True),\n",
        "    optimizer=tf.keras.optimizers.Adam(),\n",
        "    metrics=['accuracy']\n",
        ")"
      ],
      "metadata": {
        "colab": {
          "base_uri": "https://localhost:8080/"
        },
        "id": "ZZJctYsgpkk6",
        "outputId": "1b05a130-6ad0-46d3-ec5c-0cc3ca033814"
      },
      "execution_count": null,
      "outputs": [
        {
          "output_type": "stream",
          "name": "stdout",
          "text": [
            "Model: \"sequential\"\n",
            "_________________________________________________________________\n",
            " Layer (type)                Output Shape              Param #   \n",
            "=================================================================\n",
            " text_vectorization (TextVe  (None, None)              0         \n",
            " ctorization)                                                    \n",
            "                                                                 \n",
            " embedding (Embedding)       (None, None, 64)          640000    \n",
            "                                                                 \n",
            " bidirectional (Bidirection  (None, None, 128)         66048     \n",
            " al)                                                             \n",
            "                                                                 \n",
            " bidirectional_1 (Bidirecti  (None, 64)                41216     \n",
            " onal)                                                           \n",
            "                                                                 \n",
            " dense (Dense)               (None, 64)                4160      \n",
            "                                                                 \n",
            " dense_1 (Dense)             (None, 1)                 65        \n",
            "                                                                 \n",
            "=================================================================\n",
            "Total params: 751489 (2.87 MB)\n",
            "Trainable params: 751489 (2.87 MB)\n",
            "Non-trainable params: 0 (0.00 Byte)\n",
            "_________________________________________________________________\n"
          ]
        }
      ]
    },
    {
      "cell_type": "code",
      "source": [
        "# Training the model and validating it on test set\n",
        "history = model.fit(\n",
        "    train_dataset,\n",
        "    epochs=50,\n",
        "    validation_data=test_dataset,\n",
        ")"
      ],
      "metadata": {
        "colab": {
          "base_uri": "https://localhost:8080/"
        },
        "id": "fVgYKJGbprjM",
        "outputId": "279f6502-721e-484e-f239-4ce017af250d"
      },
      "execution_count": null,
      "outputs": [
        {
          "output_type": "stream",
          "name": "stdout",
          "text": [
            "Epoch 1/50\n",
            "1016/1016 [==============================] - 91s 72ms/step - loss: 0.5718 - accuracy: 0.6471 - val_loss: 0.5120 - val_accuracy: 0.6940\n",
            "Epoch 2/50\n",
            "1016/1016 [==============================] - 35s 34ms/step - loss: 0.4429 - accuracy: 0.7664 - val_loss: 0.4959 - val_accuracy: 0.7276\n",
            "Epoch 3/50\n",
            "1016/1016 [==============================] - 33s 32ms/step - loss: 0.3555 - accuracy: 0.8197 - val_loss: 0.5077 - val_accuracy: 0.7342\n",
            "Epoch 4/50\n",
            "1016/1016 [==============================] - 32s 32ms/step - loss: 0.2893 - accuracy: 0.8564 - val_loss: 0.5351 - val_accuracy: 0.7412\n",
            "Epoch 5/50\n",
            "1016/1016 [==============================] - 33s 32ms/step - loss: 0.2344 - accuracy: 0.8843 - val_loss: 0.7176 - val_accuracy: 0.7481\n",
            "Epoch 6/50\n",
            "1016/1016 [==============================] - 34s 33ms/step - loss: 0.1931 - accuracy: 0.9068 - val_loss: 0.7299 - val_accuracy: 0.7477\n",
            "Epoch 7/50\n",
            "1016/1016 [==============================] - 34s 34ms/step - loss: 0.1602 - accuracy: 0.9228 - val_loss: 0.8586 - val_accuracy: 0.7471\n",
            "Epoch 8/50\n",
            "1016/1016 [==============================] - 34s 34ms/step - loss: 0.1319 - accuracy: 0.9357 - val_loss: 0.9515 - val_accuracy: 0.7511\n",
            "Epoch 9/50\n",
            "1016/1016 [==============================] - 31s 30ms/step - loss: 0.1117 - accuracy: 0.9464 - val_loss: 1.0646 - val_accuracy: 0.7563\n",
            "Epoch 10/50\n",
            "1016/1016 [==============================] - 32s 31ms/step - loss: 0.0989 - accuracy: 0.9535 - val_loss: 1.0915 - val_accuracy: 0.7545\n",
            "Epoch 11/50\n",
            "1016/1016 [==============================] - 32s 31ms/step - loss: 0.0837 - accuracy: 0.9602 - val_loss: 1.2101 - val_accuracy: 0.7548\n",
            "Epoch 12/50\n",
            "1016/1016 [==============================] - 32s 31ms/step - loss: 0.0774 - accuracy: 0.9641 - val_loss: 1.1954 - val_accuracy: 0.7525\n",
            "Epoch 13/50\n",
            "1016/1016 [==============================] - 32s 32ms/step - loss: 0.0658 - accuracy: 0.9697 - val_loss: 1.2970 - val_accuracy: 0.7514\n",
            "Epoch 14/50\n",
            "1016/1016 [==============================] - 33s 33ms/step - loss: 0.0581 - accuracy: 0.9731 - val_loss: 1.6607 - val_accuracy: 0.7504\n",
            "Epoch 15/50\n",
            "1016/1016 [==============================] - 32s 31ms/step - loss: 0.0534 - accuracy: 0.9766 - val_loss: 1.3231 - val_accuracy: 0.7558\n",
            "Epoch 16/50\n",
            "1016/1016 [==============================] - 32s 31ms/step - loss: 0.0505 - accuracy: 0.9774 - val_loss: 1.4138 - val_accuracy: 0.7589\n",
            "Epoch 17/50\n",
            "1016/1016 [==============================] - 32s 31ms/step - loss: 0.0443 - accuracy: 0.9803 - val_loss: 1.4212 - val_accuracy: 0.7506\n",
            "Epoch 18/50\n",
            "1016/1016 [==============================] - 32s 31ms/step - loss: 0.0416 - accuracy: 0.9819 - val_loss: 1.4472 - val_accuracy: 0.7525\n",
            "Epoch 19/50\n",
            "1016/1016 [==============================] - 31s 30ms/step - loss: 0.0393 - accuracy: 0.9831 - val_loss: 1.6859 - val_accuracy: 0.7519\n",
            "Epoch 20/50\n",
            "1016/1016 [==============================] - 31s 30ms/step - loss: 0.0362 - accuracy: 0.9843 - val_loss: 1.5914 - val_accuracy: 0.7525\n",
            "Epoch 21/50\n",
            "1016/1016 [==============================] - 30s 30ms/step - loss: 0.0341 - accuracy: 0.9854 - val_loss: 1.6620 - val_accuracy: 0.7588\n",
            "Epoch 22/50\n",
            "1016/1016 [==============================] - 32s 31ms/step - loss: 0.0297 - accuracy: 0.9876 - val_loss: 1.5589 - val_accuracy: 0.7516\n",
            "Epoch 23/50\n",
            "1016/1016 [==============================] - 30s 30ms/step - loss: 0.0273 - accuracy: 0.9879 - val_loss: 1.8642 - val_accuracy: 0.7600\n",
            "Epoch 24/50\n",
            "1016/1016 [==============================] - 31s 31ms/step - loss: 0.0287 - accuracy: 0.9877 - val_loss: 1.6008 - val_accuracy: 0.7570\n",
            "Epoch 25/50\n",
            "1016/1016 [==============================] - 31s 30ms/step - loss: 0.0250 - accuracy: 0.9891 - val_loss: 1.8444 - val_accuracy: 0.7558\n",
            "Epoch 26/50\n",
            "1016/1016 [==============================] - 33s 33ms/step - loss: 0.0243 - accuracy: 0.9894 - val_loss: 1.8406 - val_accuracy: 0.7567\n",
            "Epoch 27/50\n",
            "1016/1016 [==============================] - 32s 31ms/step - loss: 0.0228 - accuracy: 0.9905 - val_loss: 1.8703 - val_accuracy: 0.7506\n",
            "Epoch 28/50\n",
            "1016/1016 [==============================] - 30s 30ms/step - loss: 0.0227 - accuracy: 0.9901 - val_loss: 1.8583 - val_accuracy: 0.7524\n",
            "Epoch 29/50\n",
            "1016/1016 [==============================] - 31s 31ms/step - loss: 0.0223 - accuracy: 0.9905 - val_loss: 1.8710 - val_accuracy: 0.7554\n",
            "Epoch 30/50\n",
            "1016/1016 [==============================] - 32s 31ms/step - loss: 0.0211 - accuracy: 0.9915 - val_loss: 1.8076 - val_accuracy: 0.7582\n",
            "1016/1016 [==============================] - 31s 31ms/step - loss: 0.0206 - accuracy: 0.9912 - val_loss: 1.8224 - val_accuracy: 0.7566\n",
            "Epoch 32/50\n",
            "1016/1016 [==============================] - 31s 31ms/step - loss: 0.0206 - accuracy: 0.9920 - val_loss: 1.7190 - val_accuracy: 0.7467\n",
            "Epoch 33/50\n",
            "1016/1016 [==============================] - 32s 32ms/step - loss: 0.0160 - accuracy: 0.9930 - val_loss: 2.0666 - val_accuracy: 0.7545\n",
            "Epoch 34/50\n",
            "1016/1016 [==============================] - 33s 33ms/step - loss: 0.0188 - accuracy: 0.9918 - val_loss: 1.7329 - val_accuracy: 0.7513\n",
            "Epoch 35/50\n",
            "1016/1016 [==============================] - 32s 32ms/step - loss: 0.0184 - accuracy: 0.9925 - val_loss: 1.7165 - val_accuracy: 0.7505\n",
            "Epoch 36/50\n",
            "1016/1016 [==============================] - 33s 32ms/step - loss: 0.0143 - accuracy: 0.9939 - val_loss: 2.0571 - val_accuracy: 0.7550\n",
            "Epoch 37/50\n",
            "1016/1016 [==============================] - 36s 35ms/step - loss: 0.0178 - accuracy: 0.9922 - val_loss: 1.8063 - val_accuracy: 0.7535\n",
            "Epoch 38/50\n",
            "1016/1016 [==============================] - 34s 33ms/step - loss: 0.0182 - accuracy: 0.9924 - val_loss: 1.6736 - val_accuracy: 0.7522\n",
            "Epoch 39/50\n",
            "1016/1016 [==============================] - 33s 32ms/step - loss: 0.0167 - accuracy: 0.9933 - val_loss: 1.7111 - val_accuracy: 0.7529\n",
            "Epoch 40/50\n",
            "1016/1016 [==============================] - 32s 32ms/step - loss: 0.0129 - accuracy: 0.9939 - val_loss: 1.7442 - val_accuracy: 0.7536\n",
            "Epoch 41/50\n",
            "1016/1016 [==============================] - 32s 32ms/step - loss: 0.0131 - accuracy: 0.9944 - val_loss: 1.7241 - val_accuracy: 0.7572\n",
            "Epoch 42/50\n",
            "1016/1016 [==============================] - 31s 31ms/step - loss: 0.0108 - accuracy: 0.9950 - val_loss: 1.9726 - val_accuracy: 0.7562\n",
            "Epoch 43/50\n",
            "1016/1016 [==============================] - 33s 32ms/step - loss: 0.0128 - accuracy: 0.9943 - val_loss: 1.7980 - val_accuracy: 0.7548\n",
            "Epoch 44/50\n",
            "1016/1016 [==============================] - 32s 31ms/step - loss: 0.0158 - accuracy: 0.9931 - val_loss: 1.7870 - val_accuracy: 0.7559\n",
            "Epoch 45/50\n",
            "1016/1016 [==============================] - 32s 32ms/step - loss: 0.0123 - accuracy: 0.9943 - val_loss: 1.8887 - val_accuracy: 0.7530\n",
            "Epoch 46/50\n",
            "1016/1016 [==============================] - 31s 30ms/step - loss: 0.0141 - accuracy: 0.9941 - val_loss: 1.9482 - val_accuracy: 0.7545\n",
            "Epoch 47/50\n",
            "1016/1016 [==============================] - 32s 32ms/step - loss: 0.0109 - accuracy: 0.9950 - val_loss: 1.9964 - val_accuracy: 0.7553\n",
            "Epoch 48/50\n",
            "1016/1016 [==============================] - 32s 31ms/step - loss: 0.0126 - accuracy: 0.9948 - val_loss: 1.8872 - val_accuracy: 0.7527\n",
            "Epoch 49/50\n",
            "1016/1016 [==============================] - 32s 31ms/step - loss: 0.0105 - accuracy: 0.9949 - val_loss: 2.1620 - val_accuracy: 0.7506\n",
            "Epoch 50/50\n",
            "1016/1016 [==============================] - 31s 31ms/step - loss: 0.0124 - accuracy: 0.9944 - val_loss: 2.0107 - val_accuracy: 0.7547\n"
          ]
        }
      ]
    },
    {
      "cell_type": "code",
      "source": [
        "# Plotting the accuracy and loss over time\n",
        "\n",
        "# Training history\n",
        "history_dict = history.history\n",
        "\n",
        "# Seperating validation and training accuracy\n",
        "acc = history_dict['accuracy']\n",
        "val_acc = history_dict['val_accuracy']\n",
        "\n",
        "# Seperating validation and training loss\n",
        "loss = history_dict['loss']\n",
        "val_loss = history_dict['val_loss']\n",
        "\n",
        "# Plotting\n",
        "plt.figure(figsize=(8, 4))\n",
        "plt.subplot(1, 2, 1)\n",
        "plt.plot(acc)\n",
        "plt.plot(val_acc)\n",
        "plt.title('Training and Validation Accuracy')\n",
        "plt.xlabel('Epochs')\n",
        "plt.ylabel('Accuracy')\n",
        "plt.legend(['Accuracy', 'Validation Accuracy'])\n",
        "\n",
        "plt.subplot(1, 2, 2)\n",
        "plt.plot(loss)\n",
        "plt.plot(val_loss)\n",
        "plt.title('Training and Validation Loss')\n",
        "plt.xlabel('Epochs')\n",
        "plt.ylabel('Loss')\n",
        "plt.legend(['Loss', 'Validation Loss'])\n",
        "\n",
        "plt.show()\n"
      ],
      "metadata": {
        "colab": {
          "base_uri": "https://localhost:8080/",
          "height": 410
        },
        "id": "1ck3Kq6-Bwvx",
        "outputId": "2d3303dc-4b02-4d78-e0a8-e7700fd4f9d1"
      },
      "execution_count": null,
      "outputs": [
        {
          "output_type": "display_data",
          "data": {
            "text/plain": [
              "<Figure size 800x400 with 2 Axes>"
            ],
            "image/png": "[encoded data removed]"
          },
          "metadata": {}
        }
      ]
    },
    {
      "cell_type": "code",
      "source": [
        "# Making predictions\n",
        "sample_text = (\n",
        "\t\" helloooo\"\n",
        ")\n",
        "predictions = model.predict(np.array([sample_text]))\n",
        "print(*predictions[0])\n",
        "\n",
        "# Print the label based on the prediction\n",
        "if predictions[0] > 0:\n",
        "\tprint('The review is positive')\n",
        "else:\n",
        "\tprint('The review is negative')\n"
      ],
      "metadata": {
        "colab": {
          "base_uri": "https://localhost:8080/"
        },
        "id": "5cKumbaUB6z_",
        "outputId": "5a4ce97f-5851-4142-eb6f-dbc09af364b4"
      },
      "execution_count": null,
      "outputs": [
        {
          "output_type": "stream",
          "name": "stdout",
          "text": [
            "1/1 [==============================] - 0s 21ms/step\n",
            "0.6731529\n",
            "The review is positive\n"
          ]
        }
      ]
    },
    {
      "cell_type": "code",
      "source": [
        "export_dir = '/content/sample_data/saved_model'\n",
        "tf.keras.models.save_model(model, export_dir)"
      ],
      "metadata": {
        "id": "O6iDg8hbG2MR"
      },
      "execution_count": null,
      "outputs": []
    },
    {
      "cell_type": "code",
      "source": [
        "from google.colab import files\n",
        "import shutil\n",
        "\n",
        "shutil.make_archive(\"/content/sample_data/saved_model\", \"zip\", \"/content/sample_data/saved_model\")\n",
        "files.download(\"/content/sample_data/saved_model.zip\")"
      ],
      "metadata": {
        "id": "6RSUZUKTIDwJ"
      },
      "execution_count": null,
      "outputs": []
    }
  ]
}